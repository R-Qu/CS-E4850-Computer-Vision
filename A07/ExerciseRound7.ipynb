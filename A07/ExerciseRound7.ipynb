{
 "cells": [
  {
   "cell_type": "code",
   "execution_count": 1,
   "metadata": {},
   "outputs": [
    {
     "data": {
      "text/html": [
       "<script>\n",
       "code_show=true;\n",
       "function code_toggle() {\n",
       "if (code_show){\n",
       "$('div.input').hide();\n",
       "} else {\n",
       "$('div.input').show();\n",
       "}\n",
       "code_show = !code_show\n",
       "}\n",
       "$( document ).ready(code_toggle);\n",
       "</script>\n",
       "<form action=\"javascript:code_toggle()\"><input type=\"submit\" value=\"Click here to toggle on/off the raw code.\"></form>"
      ],
      "text/plain": [
       "<IPython.core.display.HTML object>"
      ]
     },
     "execution_count": 1,
     "metadata": {},
     "output_type": "execute_result"
    }
   ],
   "source": [
    "import os\n",
    "from IPython.display import HTML\n",
    "\n",
    "HTML('''<script>\n",
    "code_show=true;\n",
    "function code_toggle() {\n",
    "if (code_show){\n",
    "$('div.input').hide();\n",
    "} else {\n",
    "$('div.input').show();\n",
    "}\n",
    "code_show = !code_show\n",
    "}\n",
    "$( document ).ready(code_toggle);\n",
    "</script>\n",
    "<form action=\"javascript:code_toggle()\"><input type=\"submit\" value=\"Click here to toggle on/off the raw code.\"></form>''')"
   ]
  },
  {
   "cell_type": "code",
   "execution_count": 2,
   "metadata": {},
   "outputs": [
    {
     "name": "stdout",
     "output_type": "stream",
     "text": [
      "The data directory is /coursedata\n",
      "Data stored in /coursedata/exercise-07-data\n"
     ]
    }
   ],
   "source": [
    "# Description:\n",
    "#   Exercise7 notebook.\n",
    "#\n",
    "# Copyright (C) 2018 Santiago Cortes, Juha Ylioinas\n",
    "#\n",
    "# This software is distributed under the GNU General Public \n",
    "# Licence (version 2 or later); please refer to the file \n",
    "# Licence.txt, included with the software, for details.\n",
    "\n",
    "# Preparations\n",
    "import numpy as np\n",
    "\n",
    "# Select data directory\n",
    "if os.path.isdir('/coursedata'):\n",
    "    course_data_dir = '/coursedata'\n",
    "elif os.path.isdir('../data'):\n",
    "    course_data_dir = '../data'\n",
    "else:\n",
    "    # Specify course_data_dir on your machine\n",
    "    course_data_dir = '/home/jovyan/work/coursedata/'\n",
    "\n",
    "print('The data directory is %s' % course_data_dir)\n",
    "data_dir = os.path.join(course_data_dir, 'exercise-07-data')\n",
    "print('Data stored in %s' % data_dir)"
   ]
  },
  {
   "cell_type": "markdown",
   "metadata": {},
   "source": [
    "# CS-E4850 Computer Vision Exercise Round 7\n",
    "\n",
    "#### Rui Qu 802619 \n",
    "\n",
    "The problems should be solved before the exercise session and solutions returned via\n",
    "MyCourses. <br><br> For this exercise round, upload this notebook(pdf and .ipynb versions) containing your source codes (for Exercise 1) and your answer to the question of Exercise2, and all the answers to the questions of Exercise 3 (VGG practical), see part[1-3].ipynb. Note that it's not necessary to upload part1.ipynb, part2.ipynb or part3.ipynb, because all of the necessary questions related to them are contained in this notebook and you're not expected to do any coding in Exercises 2 and 3."
   ]
  },
  {
   "cell_type": "markdown",
   "metadata": {},
   "source": [
    "## Exercise 1 - Comparing  bags-of-words  with  tf-idf  weighting\n",
    "Assume  that  we  have  an  indexed  collection  of  documents  containing  the  five  terms  of the following table where the second row indicates the percentage of documents in which each term appears.<br>\n",
    "\n",
    "| term | cat | dog |mammals | mouse | pet |\n",
    "| --- | :---: | :---: | :---: | :---: | :---: |\n",
    "| **% of documents** | 5 | 20 | 2 | 10 | 60 |\n",
    "\n",
    "Now, given the query $Q=\\{mouse, cat, pet, mammals\\}$, compute the similarity between $Q$ and the following example documents $D1$, $D2$, $D3$, by using the cosine similarity measure and tf-idf weights (i.e. term frequency - inverse document frequency) for the bag-of-words histogram representations of the documents and the query.\n",
    "\n",
    "-  $D1$ = Cat is a pet, dog is a pet, and mouse may be a pet too.\n",
    "-  $D2$ = Cat, dog and mouse are all mammals.\n",
    "-  $D3$ = Cat and dog get along well, but cat may eat a mouse.\n",
    "\n",
    "Ignore other words except the five terms. You may proceed with the following steps:\n",
    "\n",
    "a) Compute and report the inverse document frequency (idf) for each of the five terms. Use the logarithm with base 2. (idf is the logarithm on slide 69 of Lecture 6.)<br>\n",
    "b) Compute the term frequencies for the query and each document. <br>\n",
    "c) Form the tf-idf weighted word occurrence histograms for the query and documents. <br>\n",
    "d) Evaluate the cosine similarity between the query and each document (i.e.\\ normalized scalar product between the weighted occurrence histograms as shown on slide 45).<br> \n",
    "e) Report the relative ranking of the documents. (You should get similarities 0.95, 0.64, and 0.63, but you need to determine which corresponds to which document.)<br>"
   ]
  },
  {
   "cell_type": "code",
   "execution_count": 3,
   "metadata": {},
   "outputs": [
    {
     "data": {
      "text/html": [
       "<div>\n",
       "<style scoped>\n",
       "    .dataframe tbody tr th:only-of-type {\n",
       "        vertical-align: middle;\n",
       "    }\n",
       "\n",
       "    .dataframe tbody tr th {\n",
       "        vertical-align: top;\n",
       "    }\n",
       "\n",
       "    .dataframe thead th {\n",
       "        text-align: right;\n",
       "    }\n",
       "</style>\n",
       "<table border=\"1\" class=\"dataframe\">\n",
       "  <thead>\n",
       "    <tr style=\"text-align: right;\">\n",
       "      <th></th>\n",
       "      <th>mouse</th>\n",
       "      <th>cat</th>\n",
       "      <th>pet</th>\n",
       "      <th>mammals</th>\n",
       "      <th>dog</th>\n",
       "    </tr>\n",
       "  </thead>\n",
       "  <tbody>\n",
       "    <tr>\n",
       "      <th>0</th>\n",
       "      <td>0.250000</td>\n",
       "      <td>0.250000</td>\n",
       "      <td>0.25</td>\n",
       "      <td>0.250000</td>\n",
       "      <td>0.000000</td>\n",
       "    </tr>\n",
       "    <tr>\n",
       "      <th>1</th>\n",
       "      <td>0.066667</td>\n",
       "      <td>0.066667</td>\n",
       "      <td>0.20</td>\n",
       "      <td>0.000000</td>\n",
       "      <td>0.066667</td>\n",
       "    </tr>\n",
       "    <tr>\n",
       "      <th>2</th>\n",
       "      <td>0.142857</td>\n",
       "      <td>0.142857</td>\n",
       "      <td>0.00</td>\n",
       "      <td>0.142857</td>\n",
       "      <td>0.142857</td>\n",
       "    </tr>\n",
       "    <tr>\n",
       "      <th>3</th>\n",
       "      <td>0.083333</td>\n",
       "      <td>0.166667</td>\n",
       "      <td>0.00</td>\n",
       "      <td>0.000000</td>\n",
       "      <td>0.083333</td>\n",
       "    </tr>\n",
       "  </tbody>\n",
       "</table>\n",
       "</div>"
      ],
      "text/plain": [
       "      mouse       cat   pet   mammals       dog\n",
       "0  0.250000  0.250000  0.25  0.250000  0.000000\n",
       "1  0.066667  0.066667  0.20  0.000000  0.066667\n",
       "2  0.142857  0.142857  0.00  0.142857  0.142857\n",
       "3  0.083333  0.166667  0.00  0.000000  0.083333"
      ]
     },
     "execution_count": 3,
     "metadata": {},
     "output_type": "execute_result"
    }
   ],
   "source": [
    "## Comparing  bags-of-words  with  tf-idf  weighting\n",
    "##--your-code-starts-here--##\n",
    "import collections\n",
    "import pandas as pd\n",
    "import matplotlib.pyplot as plt\n",
    "\n",
    "\n",
    "class tf:\n",
    "    def __init__(self, text=None):\n",
    "        \n",
    "        if text is None:\n",
    "            text = {}\n",
    "        else:\n",
    "            self.text = text\n",
    "        self.text=text\n",
    "        \n",
    "        self.terms=['cat','dog','mammals','mouse','pet']\n",
    "    def extract(self, text):\n",
    "        extext=[]\n",
    "        for i in text.split():\n",
    "            if i in self.terms:\n",
    "                extext.append(i)\n",
    "        return extext\n",
    "        \n",
    "    def freq(self,text):\n",
    "        extract_text = self.extract(text)\n",
    "        frequency = collections.Counter(extract_text)\n",
    "        return frequency\n",
    "\n",
    "    def computeTF(self,text):\n",
    "        tfDict = {}\n",
    "        bowCount = len(text.split())\n",
    "        dict = self.freq(text)\n",
    "        for i in dict.items():\n",
    "            tfDict[i[0]] = i[1]/float(bowCount) \n",
    "        return tfDict   \n",
    "t=tf()\n",
    "\n",
    "q = \"mouse cat pet mammals\"\n",
    "d1 = \"cat is a pet dog is a pet and mouse may be a pet too\"\n",
    "d2 = \"cat dog and mouse are all mammals\"\n",
    "d3 = \"cat and dog get along well but cat may eat a mouse\"\n",
    "terms=['cat','dog','mammals','mouse','pet']\n",
    "\n",
    "pd.DataFrame([t.computeTF(q),t.computeTF(d1),t.computeTF(d2),t.computeTF(d3)]).fillna(0)\n"
   ]
  },
  {
   "cell_type": "code",
   "execution_count": 4,
   "metadata": {},
   "outputs": [
    {
     "name": "stdout",
     "output_type": "stream",
     "text": [
      "[2.99573227 1.60943791 3.91202301 2.30258509 0.51082562]\n",
      "[[0.74893307 0.19971548 0.42796175 0.49928871]\n",
      " [0.         0.10729586 0.2299197  0.13411983]\n",
      " [0.97800575 0.         0.55886043 0.        ]\n",
      " [0.57564627 0.15350567 0.32894073 0.19188209]\n",
      " [0.12770641 0.10216512 0.         0.        ]]\n"
     ]
    }
   ],
   "source": [
    "tf= pd.DataFrame([t.computeTF(q),t.computeTF(d1),t.computeTF(d2),t.computeTF(d3)]).fillna(0)\n",
    "\n",
    "tfidf=[]\n",
    "percent = np.array([5,20,2,10,60])\n",
    "idf = np.log(100 / percent)\n",
    "print(idf)\n",
    "\n",
    "tfidf.append(np.array(tf.cat)[:]*idf[0])\n",
    "tfidf.append(np.array(tf.dog)[:]*idf[1])\n",
    "tfidf.append(np.array(tf.mammals)[:]*idf[2])\n",
    "tfidf.append(np.array(tf.mouse)[:]*idf[3])\n",
    "tfidf.append(np.array(tf.pet)[:]*idf[4])\n",
    "\n",
    "tfidf=np.array(tfidf)\n",
    "print(tfidf)"
   ]
  },
  {
   "cell_type": "code",
   "execution_count": 5,
   "metadata": {},
   "outputs": [
    {
     "data": {
      "image/png": "[encoded data removed]",
      "text/plain": [
       "<Figure size 432x288 with 1 Axes>"
      ]
     },
     "metadata": {
      "needs_background": "light"
     },
     "output_type": "display_data"
    },
    {
     "name": "stdout",
     "output_type": "stream",
     "text": [
      "Similarities: [0.95469481 0.64319374 0.62888464]\n"
     ]
    }
   ],
   "source": [
    "#plot bar-chart\n",
    "docslabel=['q','d1','d2','d3']\n",
    "docs=[eval(x) for x in docslabel]\n",
    "size = 4\n",
    "index = np.arange(size)\n",
    "total_width, n = 0.8, 5\n",
    "width = total_width / n\n",
    "index = index - (total_width - width) / 2\n",
    "\n",
    "fig = plt.figure()\n",
    "for i in range(5):\n",
    "    if i==2:\n",
    "        plt.bar(index+i*width, tfidf[i], width=width, label=terms[i], tick_label=docslabel)\n",
    "    else:\n",
    "        plt.bar(index+i*width, tfidf[i], width=width, label=terms[i])\n",
    "plt.legend()\n",
    "plt.show()\n",
    "\n",
    "def evaluateSimilarity(query,docs):\n",
    "    evaluation=np.array([np.sum(query*doc)/(np.sqrt(np.sum(query**2))*np.sqrt(np.sum(doc**2))) for doc in docs])\n",
    "    srtArg= np.argsort(evaluation)[::-1]\n",
    "    srt = np.sort(evaluation)[::-1]\n",
    "    return [srtArg,srt]\n",
    "\n",
    "similarity = evaluateSimilarity(tfidf.T[0],tfidf.T[1:4,])\n",
    "\n",
    "print('Similarities:',similarity[1])\n"
   ]
  },
  {
   "cell_type": "markdown",
   "metadata": {},
   "source": [
    "The relative ranking is $d2 > d3 > d1$."
   ]
  },
  {
   "cell_type": "markdown",
   "metadata": {},
   "source": [
    "## Exercise 2 - Precision  and  recall\n",
    "There is a database of 10000 images and a user, who is only interested in images which contain a car. It is known that there are 500 such images in the database. An  automatic image retrieval system retrieves 300 car images and 50 other images from the database. Determine and report the precision and recall of the retrieval  system in this particularcase."
   ]
  },
  {
   "cell_type": "markdown",
   "metadata": {},
   "source": [
    "Type your answer here:\n",
    "\n",
    "$Recall=\\frac{True\\ positives}{Total\\ number\\ of\\ actual\\ positives}=\\frac{TP}{TP + FN}=\\frac{300}{300 + 50}=0.857$\n",
    "\n",
    "$Precision=\\frac{True\\ positives}{Total\\ number\\ of\\ positives\\ predicted}=\\frac{TP}{TP+FP}=\\frac{300}{500}=0.6$"
   ]
  },
  {
   "cell_type": "markdown",
   "metadata": {},
   "source": [
    "## Exercise 3 - VGG practical on object instance recognition\n",
    "See the questions in part[1-3].ipynb and write your answers here.\n",
    "\n",
    "Part1:\n",
    "Stage I.A (two questions)\n",
    "Stage I.B (two questions)\n",
    "Stage I.C (one question)\n",
    "\n",
    "Part2 (one question)\n",
    "\n",
    "Part3:\n",
    "Stage III.A (three questions)\n",
    "Stage III.B (one question)\n",
    "Stage III.C (two questions)"
   ]
  },
  {
   "cell_type": "markdown",
   "metadata": {},
   "source": [
    "Type your answers here: \n",
    "\n",
    "Part1: Stage I.A\n",
    "\n",
    "1. In the second image, there're shade part in the left half of the buliding, while the right half is much brighter. In SIFT we aim to find Key locations, which are defined as maxima and minima of the result of difference of Gaussians function applied in scale space to a series of smoothed and resampled images. In this case it has limited influence on matching becaues the main features(e.g. edge of the building) is pretty clear. To avoid this problem we can introduce a modification of the k-d tree algorithm called the best-bin-first search method that can identify the nearest neighbors with high probability using only a limited amount of computation.\n",
    "\n",
    "2. It happens when image structure is non planar (not lying or able to be confined within a single plane : having a three-dimensional quality). Because SIFT computes an histogram of the gradient orientations in a Gaussian window with a standard deviation. This histogram is then smoothed and the maximum is selected. In addition to the biggest mode, up to other three modes whose amplitude is within the 80% of the biggest mode are retained and returned as additional orientations. \n",
    "\n",
    "Part1: Stage I.B\n",
    "\n",
    "1. Because the descriptor is highly distinctive and partially invariant to the remaining variations such as illumination, 3D viewpoint, etc. Orientation histograms are computed from magnitude and orientation values of samples in a 16×16 region around the keypoint such that each histogram contains samples from a 4×4 subregion of the original neighborhood region. Thus the discriptors are larger region (shown in blue) than the detection.\n",
    "\n",
    "2. It's because the high dimensionality of features may cause more dismatches than a database of local features. Changing light may not be a issue because, in general, SIFT is also robust to changes in illumination, noise, and minor changes in viewpoint. Generally probabilistic algorithms such as k-d trees with best bin first search can be used to remove mismatches.\n",
    "\n",
    "Part1: Stage I.C\n",
    "\n",
    "1. The best candidate match for each keypoint is found by identifying its nearest neighbor in the database of keypoints from training images. The nearest neighbors are defined as the keypoints with minimum Euclidean distance from the given descriptor vector. The probability that a match is correct can be determined by taking the ratio of distance from the closest neighbor to the distance of the second closest. Lowe rejected all matches in which the distance ratio is greater than 0.8, which eliminates 90% of the false matches while discarding less than 5% of the correct matches. \n",
    "\n",
    "Disparity gradient constraint and the RANSAC algorithm can be used to purify the matching points．\n",
    "\n",
    "Part2\n",
    "\n",
    "\n",
    "\n",
    "Part3: Stage III.A\n",
    "\n",
    "1. When original maxNumChecks=1014, Matches on quantized descriptors: 46 matches in 0.0241s Verified matches on quantized descriptors: 10 matches\n",
    "\n",
    "When I set maxNumChecks=16384, Matches on quantized descriptors: 46 matches in 0.0424s Verified matches on quantized descriptors: 10 matches\n",
    "\n",
    "Thus when the number of vocabulary and the time for computing decreases dramatically, the number of inliers only has a small reduction. So the difficulty for computing the transformation doesn't affected much by the size.\n",
    "\n",
    "2. Because the descriptor quantization for database images can be pre-computed, therefore it doesn't have to be part of execution time for a query.\n",
    "\n",
    "3. \n",
    "\n",
    "Part3: Stage III.B\n",
    "\n",
    "1. There 25 images sorted from largest score in the plots.  the top image is the same as the query image \n",
    "\n",
    "Part3: Stage III.C\n",
    "1. Because the score in this case is the number of inlier words\n",
    "2. The irrelevant images have lower score. So the retrieval results improved after geometric verification.\n"
   ]
  },
  {
   "cell_type": "code",
   "execution_count": null,
   "metadata": {},
   "outputs": [],
   "source": []
  }
 ],
 "metadata": {
  "kernelspec": {
   "display_name": "Python 3",
   "language": "python",
   "name": "python3"
  },
  "language_info": {
   "codemirror_mode": {
    "name": "ipython",
    "version": 3
   },
   "file_extension": ".py",
   "mimetype": "text/x-python",
   "name": "python",
   "nbconvert_exporter": "python",
   "pygments_lexer": "ipython3",
   "version": "3.7.3"
  },
  "varInspector": {
   "cols": {
    "lenName": 16,
    "lenType": 16,
    "lenVar": 40
   },
   "kernels_config": {
    "python": {
     "delete_cmd_postfix": "",
     "delete_cmd_prefix": "del ",
     "library": "var_list.py",
     "varRefreshCmd": "print(var_dic_list())"
    },
    "r": {
     "delete_cmd_postfix": ") ",
     "delete_cmd_prefix": "rm(",
     "library": "var_list.r",
     "varRefreshCmd": "cat(var_dic_list()) "
    }
   },
   "types_to_exclude": [
    "module",
    "function",
    "builtin_function_or_method",
    "instance",
    "_Feature"
   ],
   "window_display": false
  }
 },
 "nbformat": 4,
 "nbformat_minor": 4
}
